{
 "cells": [
  {
   "cell_type": "code",
   "execution_count": 9,
   "id": "9b55608c-a636-45e1-80d6-d1891838d422",
   "metadata": {},
   "outputs": [
    {
     "name": "stdout",
     "output_type": "stream",
     "text": [
      "📊 Info de inversión en: Boncap S29Y6\n",
      "\n",
      "Monto invertido: $1.000.000\n",
      "Monto final al vencimiento: $1.335.880\n",
      "Ganancia neta: $335.880\n",
      "Tasa efectiva del período (9 meses): 33.59%\n",
      "Tasa efectiva anualizada (TEA): 47.13%\n",
      "\n",
      "💵 Datos en dólares\n",
      "Dólares que podrías comprar al momento de la inversión: US$763.36\n",
      "Rendimiento en dólares al vencimiento: 20.69%\n"
     ]
    }
   ],
   "source": [
    "# Parámetros de entrada\n",
    "\n",
    "nombre_letra = \"Boncap S29Y6\"\n",
    "tasa_mensual = 0.0327   # % mensual\n",
    "meses = 9               # meses al vencimiento\n",
    "inversion = 1000000     # pesos\n",
    "\n",
    "dolar_compra = 1310         # precio del dólar al momento de compra\n",
    "dolar_vencimiento = 1450    # precio del dólar estimado al vencimiento\n",
    "\n",
    "# Cálculos\n",
    "\n",
    "monto_final = inversion * (1 + tasa_mensual) ** meses\n",
    "\n",
    "ganancia = monto_final - inversion\n",
    "\n",
    "tasa_efectiva_periodo = (monto_final / inversion) - 1\n",
    "\n",
    "tasa_efectiva_anual = (1 + tasa_mensual) ** 12 - 1\n",
    "\n",
    "dolares_comprados = inversion / dolar_compra\n",
    "\n",
    "rendimiento_dolares_pct = ((monto_final / dolar_vencimiento) - dolares_comprados) / dolares_comprados * 100\n",
    "\n",
    "def formato_pesos(valor):\n",
    "    return f\"{valor:,.0f}\".replace(\",\", \".\")\n",
    "\n",
    "# Resultados\n",
    "\n",
    "print(f\"📊 Info de inversión en: {nombre_letra}\\n\")\n",
    "print(f\"Monto invertido: ${formato_pesos(inversion)}\")\n",
    "print(f\"Monto final al vencimiento: ${formato_pesos(monto_final)}\")\n",
    "print(f\"Ganancia neta: ${formato_pesos(ganancia)}\")\n",
    "print(f\"Tasa efectiva del período ({meses} meses): {tasa_efectiva_periodo*100:.2f}%\")\n",
    "print(f\"Tasa efectiva anualizada (TEA): {tasa_efectiva_anual*100:.2f}%\\n\")\n",
    "\n",
    "print(f\"💵 Datos en dólares\")\n",
    "print(f\"Dólares que podrías comprar al momento de la inversión: US${dolares_comprados:,.2f}\".replace(\",\", \".\"))\n",
    "print(f\"Rendimiento en dólares al vencimiento: {rendimiento_dolares_pct:.2f}%\".replace(\",\", \".\"))"
   ]
  },
  {
   "cell_type": "code",
   "execution_count": null,
   "id": "c0fe0153-39d1-4c11-b5a6-2d83a95b5de6",
   "metadata": {},
   "outputs": [],
   "source": []
  }
 ],
 "metadata": {
  "kernelspec": {
   "display_name": "Python 3 (ipykernel)",
   "language": "python",
   "name": "python3"
  },
  "language_info": {
   "codemirror_mode": {
    "name": "ipython",
    "version": 3
   },
   "file_extension": ".py",
   "mimetype": "text/x-python",
   "name": "python",
   "nbconvert_exporter": "python",
   "pygments_lexer": "ipython3",
   "version": "3.12.7"
  }
 },
 "nbformat": 4,
 "nbformat_minor": 5
}
