{
 "cells": [
  {
   "cell_type": "markdown",
   "id": "9d939bcd-3c34-40db-994d-ad2838782472",
   "metadata": {},
   "source": [
    "# Calculadora de interés compuesto (capitalización anual)"
   ]
  },
  {
   "cell_type": "markdown",
   "id": "44e9fa40-eea7-4acd-9f45-9a9fe6acdb2c",
   "metadata": {},
   "source": [
    "## Supuesto: Los aportes son mensuales y recién ganan interés al cierre de cada año"
   ]
  },
  {
   "cell_type": "code",
   "execution_count": 7,
   "id": "2dcd9e18-e865-4623-85f0-8bbada84c60d",
   "metadata": {},
   "outputs": [
    {
     "name": "stdout",
     "output_type": "stream",
     "text": [
      "📊 Proyección: Plan Ahorro + Interés Anual\n",
      "\n",
      "• Capital invertido:  $13.000\n",
      "• Capital final:      $16.170\n",
      "• Ganancia estimada:  $3.170\n"
     ]
    }
   ],
   "source": [
    "# Parámetros de entrada\n",
    "\n",
    "nombre_plan        = \"Plan Ahorro + Interés Anual\"\n",
    "inversion_inicial  = 1000           # $ que invertís al inicio\n",
    "aporte_mensual     = 200            # $ que aportás cada mes\n",
    "anios              = 5              # tiempo total (en años)\n",
    "tasa_anual_pct     = 7.0            # tasa de interés anual (%), compuesta anualmente\n",
    "\n",
    "\n",
    "# Cálculos\n",
    "\n",
    "def calculadora_interes_compuesto(inicial: float,\n",
    "                                  aporte_mensual: float,\n",
    "                                  anios: int,\n",
    "                                  tasa_anual_pct: float) -> dict:\n",
    "    r = tasa_anual_pct / 100.0\n",
    "    aporte_anual = aporte_mensual * 12\n",
    "\n",
    "    saldo = float(inicial)\n",
    "    for _ in range(anios):\n",
    "        saldo += aporte_anual     # se aportó durante el año\n",
    "        saldo *= (1 + r)          # capitaliza al cierre del año\n",
    "\n",
    "    capital_invertido = inicial + aporte_anual * anios\n",
    "    ganancia = saldo - capital_invertido\n",
    "\n",
    "    return {\n",
    "        \"capital_invertido\": capital_invertido,\n",
    "        \"capital_final\": saldo,\n",
    "        \"ganancia\": ganancia\n",
    "    }\n",
    "\n",
    "def formato_pesos(valor: float) -> str:\n",
    "    # Miles con puntos, sin decimales\n",
    "    return f\"{valor:,.0f}\".replace(\",\", \"X\").replace(\".\", \",\").replace(\"X\", \".\")\n",
    "\n",
    "res = calculadora_interes_compuesto(\n",
    "    inversion_inicial, aporte_mensual, anios, tasa_anual_pct\n",
    ")\n",
    "\n",
    "# Resultados\n",
    "\n",
    "print(f\"📊 Proyección: {nombre_plan}\\n\")\n",
    "print(f\"• Capital invertido:  ${formato_pesos(res['capital_invertido'])}\")\n",
    "print(f\"• Capital final:      ${formato_pesos(res['capital_final'])}\")\n",
    "print(f\"• Ganancia estimada:  ${formato_pesos(res['ganancia'])}\")"
   ]
  }
 ],
 "metadata": {
  "kernelspec": {
   "display_name": "Python 3 (ipykernel)",
   "language": "python",
   "name": "python3"
  },
  "language_info": {
   "codemirror_mode": {
    "name": "ipython",
    "version": 3
   },
   "file_extension": ".py",
   "mimetype": "text/x-python",
   "name": "python",
   "nbconvert_exporter": "python",
   "pygments_lexer": "ipython3",
   "version": "3.12.7"
  }
 },
 "nbformat": 4,
 "nbformat_minor": 5
}
