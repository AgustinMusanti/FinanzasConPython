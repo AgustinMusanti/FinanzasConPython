{
 "cells": [
  {
   "cell_type": "markdown",
   "id": "bd49530a-9094-405a-bd8a-1ddb4844ac7f",
   "metadata": {},
   "source": [
    "# Conversor de tasas simple (TNA -> TEA, TEM, diaria)"
   ]
  },
  {
   "cell_type": "code",
   "execution_count": 3,
   "id": "b5c8d70c-396a-4bba-8a1b-2b9d01be2496",
   "metadata": {},
   "outputs": [
    {
     "name": "stdout",
     "output_type": "stream",
     "text": [
      "= Conversor de tasas =\n",
      "TNA: 45.00%\n",
      "TEA: 55.55%\n",
      "Tasa efectiva mensual (TEM): 3.75%\n",
      "Tasa diaria (base 360): 0.1228%\n"
     ]
    }
   ],
   "source": [
    "# Parámetros de entrada\n",
    "\n",
    "TNA = 45         # Tasa Nominal Anual en %\n",
    "m = 12           # Capitalizaciones por año (12 = mensual)\n",
    "base_dias = 360  # 360 (base bancaria - 365 (base calendario)\n",
    "\n",
    "\n",
    "# Conversión de TNA a decimal\n",
    "\n",
    "tna_dec = TNA / 100\n",
    "\n",
    "# Cálculos\n",
    "\n",
    "TEA = (1 + tna_dec/m)**m - 1\n",
    "TEM = (1 + TEA)**(1/12) - 1\n",
    "tasa_diaria = (1 + TEA)**(1/base_dias) - 1\n",
    "\n",
    "# Resultados\n",
    "\n",
    "print(\"= Conversor de tasas =\")\n",
    "print(f\"TNA: {TNA:.2f}%\")\n",
    "print(f\"TEA: {TEA*100:.2f}%\")\n",
    "print(f\"Tasa efectiva mensual (TEM): {TEM*100:.2f}%\")\n",
    "print(f\"Tasa diaria (base {base_dias}): {tasa_diaria*100:.4f}%\")"
   ]
  }
 ],
 "metadata": {
  "kernelspec": {
   "display_name": "Python 3 (ipykernel)",
   "language": "python",
   "name": "python3"
  },
  "language_info": {
   "codemirror_mode": {
    "name": "ipython",
    "version": 3
   },
   "file_extension": ".py",
   "mimetype": "text/x-python",
   "name": "python",
   "nbconvert_exporter": "python",
   "pygments_lexer": "ipython3",
   "version": "3.12.7"
  }
 },
 "nbformat": 4,
 "nbformat_minor": 5
}
