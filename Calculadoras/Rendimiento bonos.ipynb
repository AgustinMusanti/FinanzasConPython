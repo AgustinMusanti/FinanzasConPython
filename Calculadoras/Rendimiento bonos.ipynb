{
 "cells": [
  {
   "cell_type": "markdown",
   "id": "28f7cf9e-b5c9-43fd-83cf-dcd9c45294b7",
   "metadata": {},
   "source": [
    "# Información de rendimiento de bonos del tesoro en pesos"
   ]
  },
  {
   "cell_type": "code",
   "execution_count": 12,
   "id": "f351c6e7-932c-4986-ab2c-6219bf89d89e",
   "metadata": {},
   "outputs": [
    {
     "name": "stdout",
     "output_type": "stream",
     "text": [
      "📊 Info de inversión en: Boncap S29Y6\n",
      "Monto invertido: $1.000.000\n",
      "Monto final al vencimiento: $1.335.880\n",
      "Ganancia neta: $335.880\n",
      "Tasa efectiva del período (9 meses): 33.59%\n",
      "Tasa efectiva anualizada (TEA): 47.13%\n"
     ]
    }
   ],
   "source": [
    "import locale\n",
    "\n",
    "# Formato regional a Argentina (punto para miles, coma para decimales)\n",
    "\n",
    "locale.setlocale(locale.LC_ALL, 'es_AR.UTF-8')\n",
    "\n",
    "# Parámetros de entrada\n",
    "\n",
    "nombre_letra = \"Boncap S29Y6\"    # nombre del bono\n",
    "tasa_mensual = 0.0327            # % mensual\n",
    "meses = 9                        # meses hasta el vencimiento\n",
    "inversion = 1000000              # monto invertido\n",
    "\n",
    "# Cálculos\n",
    "\n",
    "monto_final = inversion * (1 + tasa_mensual) ** meses\n",
    "\n",
    "tasa_efectiva_periodo = (monto_final / inversion) - 1\n",
    "\n",
    "tasa_efectiva_anual = (1 + tasa_mensual) ** 12 - 1\n",
    "\n",
    "ganancia = monto_final - inversion\n",
    "\n",
    "# Resultados\n",
    "\n",
    "print(f\"📊 Info de inversión en: {nombre_letra}\")\n",
    "print(f\"Monto invertido: ${locale.format_string('%d', inversion, grouping=True)}\")\n",
    "print(f\"Monto final al vencimiento: ${locale.format_string('%d', monto_final, grouping=True)}\")\n",
    "print(f\"Ganancia neta: ${locale.format_string('%d', ganancia, grouping=True)}\")\n",
    "print(f\"Tasa efectiva del período ({meses} meses): {tasa_efectiva_periodo*100:.2f}%\")\n",
    "print(f\"Tasa efectiva anualizada (TEA): {tasa_efectiva_anual*100:.2f}%\")"
   ]
  },
  {
   "cell_type": "code",
   "execution_count": null,
   "id": "e22aa938-6263-4658-b7f0-2ab56ae78975",
   "metadata": {},
   "outputs": [],
   "source": []
  }
 ],
 "metadata": {
  "kernelspec": {
   "display_name": "Python 3 (ipykernel)",
   "language": "python",
   "name": "python3"
  },
  "language_info": {
   "codemirror_mode": {
    "name": "ipython",
    "version": 3
   },
   "file_extension": ".py",
   "mimetype": "text/x-python",
   "name": "python",
   "nbconvert_exporter": "python",
   "pygments_lexer": "ipython3",
   "version": "3.12.7"
  }
 },
 "nbformat": 4,
 "nbformat_minor": 5
}
